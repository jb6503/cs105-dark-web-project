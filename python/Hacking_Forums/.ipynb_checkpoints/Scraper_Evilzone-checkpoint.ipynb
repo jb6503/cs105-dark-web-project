{
 "cells": [
  {
   "cell_type": "code",
   "execution_count": null,
   "metadata": {
    "collapsed": true
   },
   "outputs": [],
   "source": [
    "import requests\n",
    "import pandas as pd\n",
    "from bs4 import BeautifulSoup"
   ]
  },
  {
   "cell_type": "code",
   "execution_count": null,
   "metadata": {
    "collapsed": false
   },
   "outputs": [],
   "source": [
    "#extract links to all forum threads\n",
    "thread_links = []\n",
    "\n",
    "for board in range(5,23):\n",
    "    for page in range(0, 7):\n",
    "        try:\n",
    "            response = requests.get('https://evilzone.org/index.php?page=forum&sub=board&board='+str(board)+\n",
    "                                    '&boardpage='+str(page))\n",
    "            soup = BeautifulSoup(response.text, 'lxml')\n",
    "            threads = soup.find(\"table\", {\"id\": \"BoardThreadTable\"})\n",
    "\n",
    "            for thread in list(threads)[3:]:\n",
    "                topic = list(thread.children)[1]\n",
    "                replies = list(thread.children)[3].text\n",
    "                link = list(topic.children)[1]['href']\n",
    "                thread_links.append((link, replies))\n",
    "        except Exception:\n",
    "            continue"
   ]
  },
  {
   "cell_type": "code",
   "execution_count": 113,
   "metadata": {
    "collapsed": false
   },
   "outputs": [],
   "source": [
    "posts = []\n",
    "for link in thread_links:\n",
    "    response = requests.get('https://evilzone.org/'+str(link[0]))\n",
    "    soup = BeautifulSoup(response.text, 'lxml')\n",
    "    comments = soup.find(\"div\", {\"id\": \"ContentInnerWrapper\"}).find_all(\"div\", { \"class\" : \"Window\" })\n",
    "    \n",
    "    start_index = 1 if link[1] <= 10 else 2\n",
    "    end_index = None if link[1] <= 10 else -1\n",
    "    \n",
    "    for comment in comments[start_index: end_index]:\n",
    "        timestamp = comment.find(\"div\", {\"class\": \"Title\"}).text\n",
    "        user = comment.find(\"p\", {\"class\": \"Username\"}).text\n",
    "        content = comment.find(\"div\", {\"class\": \"PostData\"}).text\n",
    "        posts.append({'content': content, 'timestamp': timestamp, 'user': user})\n",
    "    \n",
    "    if link[1] >= 11:\n",
    "        response = requests.get('https://evilzone.org/'+str(link[0])+'&threadpage=1')\n",
    "        soup = BeautifulSoup(response.text, 'lxml')\n",
    "        comments = soup.find(\"div\", {\"id\": \"ContentInnerWrapper\"}).find_all(\"div\", { \"class\" : \"Window\" })\n",
    "        \n",
    "        for comment in comments[start_index: end_index]:\n",
    "            timestamp = comment.find(\"div\", {\"class\": \"Title\"}).text\n",
    "            user = comment.find(\"p\", {\"class\": \"Username\"}).text\n",
    "            content = comment.find(\"div\", {\"class\": \"PostData\"}).text\n",
    "            posts.append({'content': content, 'timestamp': timestamp, 'user': user})\n",
    "            \n",
    "    if link[1] >= 21:\n",
    "        response = requests.get('https://evilzone.org/'+str(link[0])+'&threadpage=2')\n",
    "        soup = BeautifulSoup(response.text, 'lxml')\n",
    "        comments = soup.find(\"div\", {\"id\": \"ContentInnerWrapper\"}).find_all(\"div\", { \"class\" : \"Window\" })\n",
    "        \n",
    "        for comment in comments[start_index: end_index]:\n",
    "            timestamp = comment.find(\"div\", {\"class\": \"Title\"}).text\n",
    "            user = comment.find(\"p\", {\"class\": \"Username\"}).text\n",
    "            content = comment.find(\"div\", {\"class\": \"PostData\"}).text\n",
    "            posts.append({'content': content, 'timestamp': timestamp, 'user': user})\n"
   ]
  },
  {
   "cell_type": "code",
   "execution_count": 115,
   "metadata": {
    "collapsed": false
   },
   "outputs": [
    {
     "name": "stdout",
     "output_type": "stream",
     "text": [
      "1884\n"
     ]
    }
   ],
   "source": [
    "print len(posts)"
   ]
  },
  {
   "cell_type": "code",
   "execution_count": 122,
   "metadata": {
    "collapsed": false
   },
   "outputs": [],
   "source": [
    "posts_modified = [p['content'].replace('\\r',' ').replace('\\n',' ').replace('\\t',' ').strip().encode('utf-8') for p in posts]\n",
    "posts_df = pd.DataFrame(posts_modified)"
   ]
  },
  {
   "cell_type": "code",
   "execution_count": 123,
   "metadata": {
    "collapsed": false
   },
   "outputs": [],
   "source": [
    "posts_df.to_csv('evilzone_posts.csv')"
   ]
  }
 ],
 "metadata": {
  "anaconda-cloud": {},
  "kernelspec": {
   "display_name": "Python [Root]",
   "language": "python",
   "name": "Python [Root]"
  },
  "language_info": {
   "codemirror_mode": {
    "name": "ipython",
    "version": 2
   },
   "file_extension": ".py",
   "mimetype": "text/x-python",
   "name": "python",
   "nbconvert_exporter": "python",
   "pygments_lexer": "ipython2",
   "version": "2.7.12"
  }
 },
 "nbformat": 4,
 "nbformat_minor": 0
}
