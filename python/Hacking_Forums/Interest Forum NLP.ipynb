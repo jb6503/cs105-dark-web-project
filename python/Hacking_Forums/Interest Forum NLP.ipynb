{
 "cells": [
  {
   "cell_type": "code",
   "execution_count": 6,
   "metadata": {
    "collapsed": true
   },
   "outputs": [],
   "source": [
    "import sentiment as s"
   ]
  },
  {
   "cell_type": "code",
   "execution_count": 2,
   "metadata": {
    "collapsed": false
   },
   "outputs": [
    {
     "name": "stdout",
     "output_type": "stream",
     "text": [
      "496\n",
      "1386\n"
     ]
    }
   ],
   "source": [
    "f = open('./datasets/evil_sent.txt', 'r')\n",
    "pos = 0\n",
    "neg = 0\n",
    "for x in f:\n",
    "    sent = s.sentiment(x) \n",
    "    if (sent[0]=='pos'): pos += 1\n",
    "    else: neg += 1\n",
    "print (pos)\n",
    "print (neg)"
   ]
  },
  {
   "cell_type": "code",
   "execution_count": 3,
   "metadata": {
    "collapsed": false
   },
   "outputs": [
    {
     "name": "stdout",
     "output_type": "stream",
     "text": [
      "607\n",
      "1460\n"
     ]
    }
   ],
   "source": [
    "f2 = open('./datasets/intel_sent.txt', 'r')\n",
    "pos2 = 0\n",
    "neg2 = 0\n",
    "for x in f2:\n",
    "    sent = s.sentiment(x) \n",
    "    if (sent[0]=='pos'): pos2 += 1\n",
    "    else: neg2 += 1\n",
    "print (pos2)\n",
    "print (neg2)"
   ]
  },
  {
   "cell_type": "code",
   "execution_count": 7,
   "metadata": {
    "collapsed": false
   },
   "outputs": [
    {
     "name": "stdout",
     "output_type": "stream",
     "text": [
      "434\n",
      "1186\n"
     ]
    }
   ],
   "source": [
    "f3 = open('./datasets/evil_sent.txt', 'r')\n",
    "pos = 0\n",
    "neg = 0\n",
    "for x in f3:\n",
    "    sent = s.sentiment(x) \n",
    "    if (sent[0]=='pos' and sent[1] > .7): pos += 1\n",
    "    elif (sent[0]=='neg' and sent[1] > .7): neg += 1\n",
    "print (pos)\n",
    "print (neg)\n",
    "f3.close()"
   ]
  },
  {
   "cell_type": "code",
   "execution_count": 9,
   "metadata": {
    "collapsed": false
   },
   "outputs": [
    {
     "name": "stdout",
     "output_type": "stream",
     "text": [
      "542\n",
      "1196\n"
     ]
    }
   ],
   "source": [
    "f4 = open('./datasets/intel_sent.txt', 'r')\n",
    "pos = 0\n",
    "neg = 0\n",
    "for x in f4:\n",
    "    sent = s.sentiment(x) \n",
    "    if (sent[0]=='pos' and sent[1] > .7): pos += 1\n",
    "    elif (sent[0]=='neg' and sent[1] > .7): neg += 1\n",
    "print (pos)\n",
    "print (neg)\n",
    "f4.close()"
   ]
  },
  {
   "cell_type": "code",
   "execution_count": 8,
   "metadata": {
    "collapsed": true
   },
   "outputs": [],
   "source": []
  }
 ],
 "metadata": {
  "kernelspec": {
   "display_name": "Python 3",
   "language": "python",
   "name": "python3"
  },
  "language_info": {
   "codemirror_mode": {
    "name": "ipython",
    "version": 3
   },
   "file_extension": ".py",
   "mimetype": "text/x-python",
   "name": "python",
   "nbconvert_exporter": "python",
   "pygments_lexer": "ipython3",
   "version": "3.4.3"
  }
 },
 "nbformat": 4,
 "nbformat_minor": 2
}
