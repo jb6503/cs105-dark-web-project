{
 "cells": [
  {
   "cell_type": "code",
   "execution_count": 1,
   "metadata": {
    "collapsed": false
   },
   "outputs": [],
   "source": [
    "import sentiment as s"
   ]
  },
  {
   "cell_type": "code",
   "execution_count": 13,
   "metadata": {
    "collapsed": false
   },
   "outputs": [
    {
     "name": "stdout",
     "output_type": "stream",
     "text": [
      "5310\n",
      "18572\n"
     ]
    }
   ],
   "source": [
    "#test for sentiment without neutral option\n",
    "f = open('clone_test.txt', 'r')\n",
    "pos = 0\n",
    "neg = 0\n",
    "for x in f:\n",
    "    sent = s.sentiment(x) \n",
    "    if (sent[0]=='pos'): pos += 1\n",
    "    else: neg += 1\n",
    "print (pos)\n",
    "print (neg)\n",
    "f.close()"
   ]
  },
  {
   "cell_type": "code",
   "execution_count": 17,
   "metadata": {
    "collapsed": false,
    "scrolled": true
   },
   "outputs": [
    {
     "name": "stdout",
     "output_type": "stream",
     "text": [
      "6018\n",
      "14262\n"
     ]
    }
   ],
   "source": [
    "f2 = open('tweet_test.txt', 'r')\n",
    "post = 0\n",
    "negt = 0\n",
    "for x in f2:\n",
    "    sent = s.sentiment(x) \n",
    "    if (sent[0]=='pos'): post += 1\n",
    "    else: negt += 1\n",
    "print (post)\n",
    "print (negt)\n",
    "f2.close()"
   ]
  },
  {
   "cell_type": "code",
   "execution_count": 2,
   "metadata": {
    "collapsed": false
   },
   "outputs": [
    {
     "name": "stdout",
     "output_type": "stream",
     "text": [
      "5439\n",
      "10273\n"
     ]
    }
   ],
   "source": [
    "#test for sentiment with neutral option\n",
    "f3 = open('./datasets/tweet_test.txt', 'r')\n",
    "pos = 0\n",
    "neg = 0\n",
    "for x in f3:\n",
    "    sent = s.sentiment(x) \n",
    "    if (sent[0]=='pos' and sent[1] > .7): pos += 1\n",
    "    elif (sent[0]=='neg' and sent[1] > .7): neg += 1\n",
    "print (pos)\n",
    "print (neg)\n",
    "f3.close()"
   ]
  },
  {
   "cell_type": "code",
   "execution_count": 2,
   "metadata": {
    "collapsed": false
   },
   "outputs": [
    {
     "name": "stdout",
     "output_type": "stream",
     "text": [
      "4402\n",
      "4986\n"
     ]
    }
   ],
   "source": [
    "f4 = open('./datasets/clone_test.txt', 'r')\n",
    "pos = 0\n",
    "neg = 0\n",
    "for x in f4:\n",
    "    sent = s.sentiment(x) \n",
    "    if (sent[0]=='pos' and sent[1] > .7): pos += 1\n",
    "    elif (sent[0]=='neg' and sent[1] > .7): neg += 1\n",
    "print (pos)\n",
    "print (neg)\n",
    "f4.close()"
   ]
  }
 ],
 "metadata": {
  "kernelspec": {
   "display_name": "Python 3",
   "language": "python",
   "name": "python3"
  },
  "language_info": {
   "codemirror_mode": {
    "name": "ipython",
    "version": 3
   },
   "file_extension": ".py",
   "mimetype": "text/x-python",
   "name": "python",
   "nbconvert_exporter": "python",
   "pygments_lexer": "ipython3",
   "version": "3.4.3"
  }
 },
 "nbformat": 4,
 "nbformat_minor": 2
}
