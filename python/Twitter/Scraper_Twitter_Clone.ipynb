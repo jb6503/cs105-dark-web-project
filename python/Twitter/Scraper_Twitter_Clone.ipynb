{
 "cells": [
  {
   "cell_type": "code",
   "execution_count": null,
   "metadata": {
    "collapsed": true
   },
   "outputs": [],
   "source": [
    "import socks\n",
    "import socket\n",
    "from bs4 import BeautifulSoup"
   ]
  },
  {
   "cell_type": "code",
   "execution_count": null,
   "metadata": {
    "collapsed": false
   },
   "outputs": [],
   "source": [
    "def create_connection(address, timeout=None, source_address=None):\n",
    "    sock = socks.socksocket()\n",
    "    sock.connect(address)\n",
    "    return sock\n",
    "\n",
    "socks.setdefaultproxy(socks.PROXY_TYPE_SOCKS5, \"127.0.0.1\", 9050)\n",
    "\n",
    "# patch the socket module\n",
    "socket.socket = socks.socksocket\n",
    "socket.create_connection = create_connection"
   ]
  },
  {
   "cell_type": "code",
   "execution_count": null,
   "metadata": {
    "collapsed": false
   },
   "outputs": [],
   "source": [
    "import urllib2\n",
    "import requests\n",
    "import pandas as pd"
   ]
  },
  {
   "cell_type": "code",
   "execution_count": null,
   "metadata": {
    "collapsed": false
   },
   "outputs": [],
   "source": [
    "scraped_posts = []\n",
    "for page in range(1, 1000):\n",
    "    try:\n",
    "        response = urllib2.urlopen('http://npdaaf3s3f2xrmlo.onion/public?page='+str(page))\n",
    "        soup = BeautifulSoup(response.read(), 'lxml')\n",
    "        notes = soup.find(\"div\", {\"id\": \"note_list\"})\n",
    "\n",
    "        for child in notes.children:\n",
    "            try:\n",
    "                #for x in child.children:\n",
    "                    #print x\n",
    "                    #print \"################\"\n",
    "                post_id = child.attrs['id']\n",
    "                post_user = child.find(\"div\", {\"class\": \"user_note\"}).text\n",
    "                post_time = child.find(\"div\", {\"class\": \"date_note\"}).attrs['data']\n",
    "                post_content = child.find(\"div\", {\"class\": \"text_note\"}).text\n",
    "\n",
    "                scraped_posts.append({'id' : int(post_id.replace(\"status_\", '')), \n",
    "                                      'user' : post_user.replace('\\n', '').strip(), \n",
    "                                      'timestamp' : int(post_time.replace(\"{\", '').replace(\"}\", '').replace('time:','')), \n",
    "                                      'content' : post_content.replace('\\n', '').strip()})\n",
    "\n",
    "            except Exception:\n",
    "                continue\n",
    "    except Exception:\n",
    "        print \"Error on page\", page\n",
    "        continue"
   ]
  },
  {
   "cell_type": "code",
   "execution_count": null,
   "metadata": {
    "collapsed": true
   },
   "outputs": [],
   "source": [
    "df_posts = pd.DataFrame(scraped_posts)"
   ]
  },
  {
   "cell_type": "code",
   "execution_count": null,
   "metadata": {
    "collapsed": true
   },
   "outputs": [],
   "source": [
    "df_posts.to_csv('to_1000.csv', encoding='utf-8')"
   ]
  },
  {
   "cell_type": "code",
   "execution_count": null,
   "metadata": {
    "collapsed": true
   },
   "outputs": [],
   "source": []
  }
 ],
 "metadata": {
  "anaconda-cloud": {},
  "kernelspec": {
   "display_name": "Python [Root]",
   "language": "python",
   "name": "Python [Root]"
  },
  "language_info": {
   "codemirror_mode": {
    "name": "ipython",
    "version": 2
   },
   "file_extension": ".py",
   "mimetype": "text/x-python",
   "name": "python",
   "nbconvert_exporter": "python",
   "pygments_lexer": "ipython2",
   "version": "2.7.12"
  }
 },
 "nbformat": 4,
 "nbformat_minor": 0
}
