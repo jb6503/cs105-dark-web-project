{
 "cells": [
  {
   "cell_type": "code",
   "execution_count": 80,
   "metadata": {
    "collapsed": true
   },
   "outputs": [],
   "source": [
    "import socks\n",
    "import socket\n",
    "from bs4 import BeautifulSoup\n",
    "\n",
    "def create_connection(address, timeout=None, source_address=None):\n",
    "    sock = socks.socksocket()\n",
    "    sock.connect(address)\n",
    "    return sock\n",
    "\n",
    "socks.setdefaultproxy(socks.PROXY_TYPE_SOCKS5, \"127.0.0.1\", 9050)\n",
    "\n",
    "# patch the socket module\n",
    "socket.socket = socks.socksocket\n",
    "socket.create_connection = create_connection\n",
    "\n",
    "import urllib2\n",
    "import requests\n",
    "import pandas as pd"
   ]
  },
  {
   "cell_type": "code",
   "execution_count": 81,
   "metadata": {
    "collapsed": false
   },
   "outputs": [],
   "source": [
    "response = urllib2.urlopen('http://rrcc5uuudhh4oz3c.onion/?cmd=category&id=12')\n",
    "soup = BeautifulSoup(response.read(), 'lxml')\n",
    "threads = soup.find(\"table\", {\"class\": \"contentbox\"})"
   ]
  },
  {
   "cell_type": "code",
   "execution_count": 82,
   "metadata": {
    "collapsed": false
   },
   "outputs": [],
   "source": [
    "thread_links = []\n",
    "for thread in list(threads)[1:]:\n",
    "    topic = list(thread.children)[0]\n",
    "    link = list(topic.children)[0]['href']\n",
    "    thread_links.append(link)"
   ]
  },
  {
   "cell_type": "code",
   "execution_count": 87,
   "metadata": {
    "collapsed": false
   },
   "outputs": [],
   "source": [
    "posts = []\n",
    "for link in thread_links:\n",
    "    response = urllib2.urlopen('http://rrcc5uuudhh4oz3c.onion'+link)\n",
    "    soup = BeautifulSoup(response.read(), 'lxml')\n",
    "    comments = soup.find(\"table\", {\"class\": \"contentbox\"})\n",
    "    \n",
    "    for comment in list(comments)[1:]:\n",
    "        user = list(comment.children)[0].text\n",
    "        timestamp = list(list(comment.children)[1].children)[0].text\n",
    "        content = list(comment.children)[1]\n",
    "        for div in content.find_all(\"div\", {'class':'right'}): \n",
    "            div.decompose()\n",
    "\n",
    "        posts.append({'user':user, 'content ': content.text, 'timestamp': timestamp})"
   ]
  },
  {
   "cell_type": "code",
   "execution_count": 88,
   "metadata": {
    "collapsed": true
   },
   "outputs": [],
   "source": [
    "posts_df = pd.DataFrame(posts)"
   ]
  },
  {
   "cell_type": "code",
   "execution_count": 90,
   "metadata": {
    "collapsed": false
   },
   "outputs": [
    {
     "data": {
      "text/html": [
       "<div>\n",
       "<table border=\"1\" class=\"dataframe\">\n",
       "  <thead>\n",
       "    <tr style=\"text-align: right;\">\n",
       "      <th></th>\n",
       "      <th>content</th>\n",
       "      <th>timestamp</th>\n",
       "      <th>user</th>\n",
       "    </tr>\n",
       "  </thead>\n",
       "  <tbody>\n",
       "    <tr>\n",
       "      <th>0</th>\n",
       "      <td>So I wanted to get into this website and they ...</td>\n",
       "      <td>14 weeks and 4 days ago</td>\n",
       "      <td>Jappa</td>\n",
       "    </tr>\n",
       "    <tr>\n",
       "      <th>1</th>\n",
       "      <td>whats the site ? i can do a vulnerability scan...</td>\n",
       "      <td>14 weeks and 4 days ago</td>\n",
       "      <td>deadsh0t</td>\n",
       "    </tr>\n",
       "    <tr>\n",
       "      <th>2</th>\n",
       "      <td>a WpScan just identifies possible vulnerabilit...</td>\n",
       "      <td>14 hours and 50 minutes ago</td>\n",
       "      <td>digitalsurgeon</td>\n",
       "    </tr>\n",
       "    <tr>\n",
       "      <th>3</th>\n",
       "      <td>hi guys,soon everyone from my class will need ...</td>\n",
       "      <td>4 days and 10 hours ago</td>\n",
       "      <td>ltribute</td>\n",
       "    </tr>\n",
       "    <tr>\n",
       "      <th>4</th>\n",
       "      <td>This thread is intended for people to discuss ...</td>\n",
       "      <td>1 week and 9 hours ago</td>\n",
       "      <td>PuppetMaster</td>\n",
       "    </tr>\n",
       "  </tbody>\n",
       "</table>\n",
       "</div>"
      ],
      "text/plain": [
       "                                            content   \\\n",
       "0  So I wanted to get into this website and they ...   \n",
       "1  whats the site ? i can do a vulnerability scan...   \n",
       "2  a WpScan just identifies possible vulnerabilit...   \n",
       "3  hi guys,soon everyone from my class will need ...   \n",
       "4  This thread is intended for people to discuss ...   \n",
       "\n",
       "                     timestamp            user  \n",
       "0      14 weeks and 4 days ago           Jappa  \n",
       "1      14 weeks and 4 days ago        deadsh0t  \n",
       "2  14 hours and 50 minutes ago  digitalsurgeon  \n",
       "3      4 days and 10 hours ago        ltribute  \n",
       "4       1 week and 9 hours ago    PuppetMaster  "
      ]
     },
     "execution_count": 90,
     "metadata": {},
     "output_type": "execute_result"
    }
   ],
   "source": [
    "posts_df.head()"
   ]
  },
  {
   "cell_type": "code",
   "execution_count": 92,
   "metadata": {
    "collapsed": false
   },
   "outputs": [],
   "source": [
    "posts_df.to_csv(\"Intel_Exchange_Posts.csv\", encoding='utf-8')"
   ]
  },
  {
   "cell_type": "code",
   "execution_count": null,
   "metadata": {
    "collapsed": true
   },
   "outputs": [],
   "source": []
  }
 ],
 "metadata": {
  "anaconda-cloud": {},
  "kernelspec": {
   "display_name": "Python [Root]",
   "language": "python",
   "name": "Python [Root]"
  },
  "language_info": {
   "codemirror_mode": {
    "name": "ipython",
    "version": 2
   },
   "file_extension": ".py",
   "mimetype": "text/x-python",
   "name": "python",
   "nbconvert_exporter": "python",
   "pygments_lexer": "ipython2",
   "version": "2.7.12"
  }
 },
 "nbformat": 4,
 "nbformat_minor": 0
}
