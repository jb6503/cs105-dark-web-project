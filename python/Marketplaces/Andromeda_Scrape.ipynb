{
 "cells": [
  {
   "cell_type": "code",
   "execution_count": 18,
   "metadata": {
    "collapsed": false
   },
   "outputs": [],
   "source": [
    "import pandas as pd\n",
    "from bs4 import BeautifulSoup\n",
    "import os\n",
    "from os.path import join"
   ]
  },
  {
   "cell_type": "code",
   "execution_count": 33,
   "metadata": {
    "collapsed": false
   },
   "outputs": [],
   "source": [
    "basedir = './datasets/andromeda-forums'\n",
    "\n",
    "scrapes = os.listdir(basedir)[1:] #get list of scrape directories"
   ]
  },
  {
   "cell_type": "code",
   "execution_count": 54,
   "metadata": {
    "collapsed": false
   },
   "outputs": [],
   "source": [
    "#collect relative urls for each page scraped\n",
    "thread_urls = []\n",
    "\n",
    "for scrape in scrapes:\n",
    "    for url in os.listdir(join(basedir, scrape)):\n",
    "        if 'topic' in url:\n",
    "            path = join(join(basedir, scrape), url)\n",
    "            thread_urls.append(path)"
   ]
  },
  {
   "cell_type": "code",
   "execution_count": 93,
   "metadata": {
    "collapsed": false
   },
   "outputs": [],
   "source": [
    "#extract posts and poster names\n",
    "posts_list = []\n",
    "thread_ids = iter(range(10000))\n",
    "for thread in thread_urls:\n",
    "    with open(thread, 'r') as content:\n",
    "        soup = BeautifulSoup(content, 'lxml')\n",
    "        t_id = thread_ids.next()\n",
    "        \n",
    "        poster_tags = soup.findAll('div', class_='poster')\n",
    "        \n",
    "        posters = []\n",
    "        for tag in poster_tags: #get all poster names\n",
    "            posters.append(list(tag.children)[1].text.replace('\\n', '').encode('utf-8'))\n",
    "        \n",
    "        post_tags = soup.findAll('div', class_='post')\n",
    "        content = []\n",
    "        for tag in post_tags: #get all poster names\n",
    "            content.append(tag.text.replace('\\n', '').encode('utf-8'))\n",
    "        \n",
    "        posts = zip(posters, content, [t_id for i in range(len(posters))])\n",
    "        posts_list.extend(posts)\n",
    "        \n",
    "posts_list = np.array(posts_list)"
   ]
  },
  {
   "cell_type": "code",
   "execution_count": 100,
   "metadata": {
    "collapsed": false
   },
   "outputs": [
    {
     "data": {
      "text/html": [
       "<div>\n",
       "<table border=\"1\" class=\"dataframe\">\n",
       "  <thead>\n",
       "    <tr style=\"text-align: right;\">\n",
       "      <th></th>\n",
       "      <th>user</th>\n",
       "      <th>content</th>\n",
       "      <th>thread</th>\n",
       "    </tr>\n",
       "  </thead>\n",
       "  <tbody>\n",
       "    <tr>\n",
       "      <th>0</th>\n",
       "      <td>JulesWinnfield</td>\n",
       "      <td>Just for safety issues.</td>\n",
       "      <td>1</td>\n",
       "    </tr>\n",
       "    <tr>\n",
       "      <th>1</th>\n",
       "      <td>LostTemple</td>\n",
       "      <td>Yes, this is something that is being worked on...</td>\n",
       "      <td>1</td>\n",
       "    </tr>\n",
       "    <tr>\n",
       "      <th>2</th>\n",
       "      <td>NOWTHATSTHESTUFF</td>\n",
       "      <td>just check out my listings dont go through the...</td>\n",
       "      <td>2</td>\n",
       "    </tr>\n",
       "    <tr>\n",
       "      <th>3</th>\n",
       "      <td>drgreentreez</td>\n",
       "      <td>glad to reunite with such a standout vendor of...</td>\n",
       "      <td>2</td>\n",
       "    </tr>\n",
       "    <tr>\n",
       "      <th>4</th>\n",
       "      <td>drgreentreez</td>\n",
       "      <td>I will be a loyal and active customer of any...</td>\n",
       "      <td>3</td>\n",
       "    </tr>\n",
       "  </tbody>\n",
       "</table>\n",
       "</div>"
      ],
      "text/plain": [
       "               user                                            content thread\n",
       "0    JulesWinnfield                            Just for safety issues.      1\n",
       "1        LostTemple  Yes, this is something that is being worked on...      1\n",
       "2  NOWTHATSTHESTUFF  just check out my listings dont go through the...      2\n",
       "3      drgreentreez  glad to reunite with such a standout vendor of...      2\n",
       "4      drgreentreez    I will be a loyal and active customer of any...      3"
      ]
     },
     "execution_count": 100,
     "metadata": {},
     "output_type": "execute_result"
    }
   ],
   "source": [
    "posts_df = pd.DataFrame(posts_list, columns=['user', 'content', 'thread'])\n",
    "posts_df.head()"
   ]
  },
  {
   "cell_type": "code",
   "execution_count": 101,
   "metadata": {
    "collapsed": true
   },
   "outputs": [],
   "source": [
    "#dump to csv\n",
    "posts_df.to_csv('./datasets/andromeda_posts.csv')"
   ]
  }
 ],
 "metadata": {
  "anaconda-cloud": {},
  "kernelspec": {
   "display_name": "Python 2",
   "language": "python",
   "name": "python2"
  },
  "language_info": {
   "codemirror_mode": {
    "name": "ipython",
    "version": 2
   },
   "file_extension": ".py",
   "mimetype": "text/x-python",
   "name": "python",
   "nbconvert_exporter": "python",
   "pygments_lexer": "ipython2",
   "version": "2.7.6"
  }
 },
 "nbformat": 4,
 "nbformat_minor": 0
}
